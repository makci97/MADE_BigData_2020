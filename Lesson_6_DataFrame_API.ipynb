{
 "cells": [
  {
   "cell_type": "markdown",
   "metadata": {},
   "source": [
    "# Made. Spark DataFrame API"
   ]
  },
  {
   "cell_type": "markdown",
   "metadata": {},
   "source": [
    "Для начала импортнем содержимое пакета spark.sql.\n",
    "\n",
    "В нем есть SparkSession -- часть, которая выполняется на драйвере и обеспечивает выполнение кода на Spark."
   ]
  },
  {
   "cell_type": "code",
   "execution_count": 2,
   "metadata": {},
   "outputs": [],
   "source": [
    "import org.apache.spark.sql._"
   ]
  },
  {
   "cell_type": "markdown",
   "metadata": {},
   "source": [
    "## SparkSession\n",
    "Конфигурация spark https://spark.apache.org/docs/latest/configuration.html"
   ]
  },
  {
   "cell_type": "code",
   "execution_count": 2,
   "metadata": {},
   "outputs": [
    {
     "data": {
      "text/plain": [
       "spark = org.apache.spark.sql.SparkSession@75d837b9\n"
      ]
     },
     "metadata": {},
     "output_type": "display_data",
     "source": "user"
    },
    {
     "data": {
      "text/plain": [
       "org.apache.spark.sql.SparkSession@75d837b9"
      ]
     },
     "execution_count": 2,
     "metadata": {},
     "output_type": "execute_result"
    }
   ],
   "source": [
    "val spark = SparkSession.builder()\n",
    "    // адрес мастера\n",
    "    .master(\"local[*]\")\n",
    "    // имя приложения в интерфейсе спарка\n",
    "    .appName(\"made-demo\")\n",
    "//     .config(\"spark.executor.memory\",  \"2g\")\n",
    "//     .config(\"spark.executor.cores\", \"2\")\n",
    "//     .config(\"spark.driver.memory\", \"2g\")\n",
    "    .getOrCreate()"
   ]
  },
  {
   "cell_type": "markdown",
   "metadata": {},
   "source": [
    "Импортируем синтаксический сахар."
   ]
  },
  {
   "cell_type": "code",
   "execution_count": 3,
   "metadata": {},
   "outputs": [],
   "source": [
    "import spark.implicits._"
   ]
  },
  {
   "cell_type": "markdown",
   "metadata": {},
   "source": [
    "## Создание DataFrame"
   ]
  },
  {
   "cell_type": "code",
   "execution_count": 3,
   "metadata": {},
   "outputs": [
    {
     "data": {
      "text/plain": [
       "names = List(Vanya, Petya, Vasya)\n"
      ]
     },
     "metadata": {},
     "output_type": "display_data",
     "source": "user"
    },
    {
     "data": {
      "text/plain": [
       "List(Vanya, Petya, Vasya)"
      ]
     },
     "execution_count": 3,
     "metadata": {},
     "output_type": "execute_result"
    }
   ],
   "source": [
    "val names = Seq(\"Vanya\", \"Petya\", \"Vasya\")"
   ]
  },
  {
   "cell_type": "markdown",
   "metadata": {},
   "source": [
    "Из коллекций функцией .toDF (нужен импорт spark.implicits._)"
   ]
  },
  {
   "cell_type": "code",
   "execution_count": 5,
   "metadata": {},
   "outputs": [
    {
     "name": "stdout",
     "output_type": "stream",
     "text": [
      "+-----+\n",
      "| name|\n",
      "+-----+\n",
      "|Vanya|\n",
      "|Petya|\n",
      "|Vasya|\n",
      "+-----+\n",
      "\n"
     ]
    },
    {
     "data": {
      "text/plain": [
       "df = [name: string]\n"
      ]
     },
     "metadata": {},
     "output_type": "display_data",
     "source": "user"
    },
    {
     "data": {
      "text/plain": [
       "[name: string]"
      ]
     },
     "execution_count": 5,
     "metadata": {},
     "output_type": "execute_result"
    }
   ],
   "source": [
    "val df = names.toDF(\"name\")\n",
    "df.show"
   ]
  },
  {
   "cell_type": "markdown",
   "metadata": {},
   "source": [
    "Коллекция кейс классов"
   ]
  },
  {
   "cell_type": "code",
   "execution_count": 4,
   "metadata": {},
   "outputs": [
    {
     "name": "stdout",
     "output_type": "stream",
     "text": [
      "+-----+\n",
      "| name|\n",
      "+-----+\n",
      "|Vanya|\n",
      "|Petya|\n",
      "|Vasya|\n",
      "+-----+\n",
      "\n"
     ]
    },
    {
     "data": {
      "text/plain": [
       "defined class Person\n",
       "df = [name: string]\n"
      ]
     },
     "metadata": {},
     "output_type": "display_data",
     "source": "user"
    },
    {
     "data": {
      "text/plain": [
       "[name: string]"
      ]
     },
     "execution_count": 4,
     "metadata": {},
     "output_type": "execute_result"
    }
   ],
   "source": [
    "case class Person(name: String)\n",
    "// List((\"Vanya\", 25, \"Moscow\"))\n",
    "val df = spark.createDataFrame(names.map(Person))\n",
    "df.show"
   ]
  },
  {
   "cell_type": "markdown",
   "metadata": {},
   "source": [
    "RDD[Row] и Schema"
   ]
  },
  {
   "cell_type": "code",
   "execution_count": 18,
   "metadata": {},
   "outputs": [
    {
     "data": {
      "text/plain": [
       "schema = StructType(StructField(name,StringType,true))\n"
      ]
     },
     "metadata": {},
     "output_type": "display_data",
     "source": "user"
    },
    {
     "data": {
      "text/plain": [
       "StructType(StructField(name,StringType,true))"
      ]
     },
     "execution_count": 18,
     "metadata": {},
     "output_type": "execute_result"
    }
   ],
   "source": [
    "import org.apache.spark.sql.types._\n",
    "\n",
    "val schema = StructType(Seq(\n",
    "    StructField(\"name\", StringType)\n",
    "))"
   ]
  },
  {
   "cell_type": "code",
   "execution_count": 20,
   "metadata": {},
   "outputs": [
    {
     "name": "stdout",
     "output_type": "stream",
     "text": [
      "+-----+\n",
      "| name|\n",
      "+-----+\n",
      "|Vanya|\n",
      "|Petya|\n",
      "|Vasya|\n",
      "+-----+\n",
      "\n"
     ]
    },
    {
     "data": {
      "text/plain": [
       "rdd = ParallelCollectionRDD[0] at parallelize at <console>:41\n",
       "df = [name: string]\n"
      ]
     },
     "metadata": {},
     "output_type": "display_data",
     "source": "user"
    },
    {
     "data": {
      "text/plain": [
       "[name: string]"
      ]
     },
     "execution_count": 20,
     "metadata": {},
     "output_type": "execute_result"
    }
   ],
   "source": [
    "val rdd = spark\n",
    "    .sparkContext\n",
    "    .parallelize(names.map(x => Row(x)))\n",
    "\n",
    "val df = spark.createDataFrame(rdd, schema)\n",
    "df.show"
   ]
  },
  {
   "cell_type": "markdown",
   "metadata": {},
   "source": [
    "RDD от кейс классов"
   ]
  },
  {
   "cell_type": "code",
   "execution_count": 21,
   "metadata": {},
   "outputs": [
    {
     "name": "stdout",
     "output_type": "stream",
     "text": [
      "+-----+\n",
      "| name|\n",
      "+-----+\n",
      "|Vanya|\n",
      "|Petya|\n",
      "|Vasya|\n",
      "+-----+\n",
      "\n"
     ]
    },
    {
     "data": {
      "text/plain": [
       "rdd = ParallelCollectionRDD[5] at parallelize at <console>:42\n",
       "df = [name: string]\n"
      ]
     },
     "metadata": {},
     "output_type": "display_data",
     "source": "user"
    },
    {
     "data": {
      "text/plain": [
       "[name: string]"
      ]
     },
     "execution_count": 21,
     "metadata": {},
     "output_type": "execute_result"
    }
   ],
   "source": [
    "val rdd = spark\n",
    "    .sparkContext\n",
    "    .parallelize(names.map(x => Person(x)))\n",
    "\n",
    "val df = spark.createDataFrame(rdd)\n",
    "df.show"
   ]
  },
  {
   "cell_type": "markdown",
   "metadata": {},
   "source": [
    "Чтением файла"
   ]
  },
  {
   "cell_type": "code",
   "execution_count": 22,
   "metadata": {},
   "outputs": [
    {
     "name": "stdout",
     "output_type": "stream",
     "text": [
      "+-----+\n",
      "| name|\n",
      "+-----+\n",
      "|Vanya|\n",
      "|Petya|\n",
      "|Vasya|\n",
      "+-----+\n",
      "\n"
     ]
    },
    {
     "data": {
      "text/plain": [
       "df = [name: string]\n"
      ]
     },
     "metadata": {},
     "output_type": "display_data",
     "source": "user"
    },
    {
     "data": {
      "text/plain": [
       "[name: string]"
      ]
     },
     "execution_count": 22,
     "metadata": {},
     "output_type": "execute_result"
    }
   ],
   "source": [
    "val df = spark.read\n",
    "    .option(\"header\", \"true\")\n",
    "    .option(\"inferSchema\", \"true\")\n",
    "    .option(\"sep\", \",\")\n",
    "    .csv(\"names.csv\")\n",
    "\n",
    "df.show"
   ]
  },
  {
   "cell_type": "markdown",
   "metadata": {},
   "source": [
    "Передавать параметры можно единой мапой"
   ]
  },
  {
   "cell_type": "code",
   "execution_count": 24,
   "metadata": {},
   "outputs": [
    {
     "name": "stdout",
     "output_type": "stream",
     "text": [
      "+-----+\n",
      "| name|\n",
      "+-----+\n",
      "|Vanya|\n",
      "|Petya|\n",
      "|Vasya|\n",
      "+-----+\n",
      "\n"
     ]
    },
    {
     "data": {
      "text/plain": [
       "options = Map(header -> true, inferSchema -> true)\n",
       "df = [name: string]\n"
      ]
     },
     "metadata": {},
     "output_type": "display_data",
     "source": "user"
    },
    {
     "data": {
      "text/plain": [
       "[name: string]"
      ]
     },
     "execution_count": 24,
     "metadata": {},
     "output_type": "execute_result"
    }
   ],
   "source": [
    "val options = Seq(\n",
    "    \"header\" -> \"true\",\n",
    "    \"inferSchema\" -> \"true\"\n",
    ").toMap\n",
    "\n",
    "val df = spark.read\n",
    "    .options(options)\n",
    "    .csv(\"names.csv\")\n",
    "\n",
    "df.show"
   ]
  },
  {
   "cell_type": "markdown",
   "metadata": {},
   "source": [
    "## Базовые функции"
   ]
  },
  {
   "cell_type": "markdown",
   "metadata": {},
   "source": [
    "Достать схему"
   ]
  },
  {
   "cell_type": "code",
   "execution_count": 25,
   "metadata": {},
   "outputs": [
    {
     "name": "stdout",
     "output_type": "stream",
     "text": [
      "root\n",
      " |-- name: string (nullable = true)\n",
      "\n"
     ]
    }
   ],
   "source": [
    "df.printSchema"
   ]
  },
  {
   "cell_type": "markdown",
   "metadata": {},
   "source": [
    "Показать семпл"
   ]
  },
  {
   "cell_type": "code",
   "execution_count": 13,
   "metadata": {},
   "outputs": [
    {
     "name": "stdout",
     "output_type": "stream",
     "text": [
      "+-----+\n",
      "| name|\n",
      "+-----+\n",
      "|Vanya|\n",
      "|Petya|\n",
      "|Vasya|\n",
      "+-----+\n",
      "\n"
     ]
    }
   ],
   "source": [
    "df.show() // top 20 rows"
   ]
  },
  {
   "cell_type": "code",
   "execution_count": 14,
   "metadata": {},
   "outputs": [
    {
     "name": "stdout",
     "output_type": "stream",
     "text": [
      "+-----+\n",
      "| name|\n",
      "+-----+\n",
      "|Vanya|\n",
      "+-----+\n",
      "only showing top 1 row\n",
      "\n"
     ]
    }
   ],
   "source": [
    "df.show(1) // top 1 row"
   ]
  },
  {
   "cell_type": "code",
   "execution_count": 15,
   "metadata": {},
   "outputs": [
    {
     "name": "stdout",
     "output_type": "stream",
     "text": [
      "+----+\n",
      "|name|\n",
      "+----+\n",
      "| Van|\n",
      "+----+\n",
      "only showing top 1 row\n",
      "\n"
     ]
    }
   ],
   "source": [
    "df.show(1, 3) // truncate strings to given number"
   ]
  },
  {
   "cell_type": "code",
   "execution_count": 16,
   "metadata": {},
   "outputs": [
    {
     "name": "stdout",
     "output_type": "stream",
     "text": [
      "-RECORD 0---\n",
      " name | Van \n",
      "-RECORD 1---\n",
      " name | Pet \n",
      "-RECORD 2---\n",
      " name | Vas \n",
      "\n"
     ]
    }
   ],
   "source": [
    "df.show(3, 3, true) // print vertical"
   ]
  },
  {
   "cell_type": "markdown",
   "metadata": {},
   "source": [
    "Посчитать количество строк"
   ]
  },
  {
   "cell_type": "code",
   "execution_count": 26,
   "metadata": {},
   "outputs": [
    {
     "data": {
      "text/plain": [
       "3"
      ]
     },
     "execution_count": 26,
     "metadata": {},
     "output_type": "execute_result"
    }
   ],
   "source": [
    "df.count"
   ]
  },
  {
   "cell_type": "markdown",
   "metadata": {},
   "source": [
    "Функции над Spark DataFrames принимают на вход колонки.\n",
    "\n",
    "Посмотрим на примере фильтрации"
   ]
  },
  {
   "cell_type": "code",
   "execution_count": 27,
   "metadata": {},
   "outputs": [],
   "source": [
    "import org.apache.spark.sql.functions._"
   ]
  },
  {
   "cell_type": "code",
   "execution_count": 28,
   "metadata": {},
   "outputs": [
    {
     "name": "stdout",
     "output_type": "stream",
     "text": [
      "+-----+\n",
      "| name|\n",
      "+-----+\n",
      "|Vanya|\n",
      "+-----+\n",
      "\n",
      "+-----+\n",
      "| name|\n",
      "+-----+\n",
      "|Vanya|\n",
      "+-----+\n",
      "\n",
      "+-----+\n",
      "| name|\n",
      "+-----+\n",
      "|Vanya|\n",
      "+-----+\n",
      "\n"
     ]
    }
   ],
   "source": [
    "df.filter('name === \"Vanya\").show\n",
    "df.filter($\"name\" === \"Vanya\").show\n",
    "df.filter(col(\"name\") === \"Vanya\").show // предпочтительный вариант, ибо более явный, находится в org.apache.spark.sql.functions._"
   ]
  },
  {
   "cell_type": "code",
   "execution_count": 20,
   "metadata": {},
   "outputs": [
    {
     "name": "stdout",
     "output_type": "stream",
     "text": [
      "+-----+\n",
      "| name|\n",
      "+-----+\n",
      "|Vanya|\n",
      "+-----+\n",
      "\n"
     ]
    }
   ],
   "source": [
    "df.filter(\"name = 'Vanya'\").show"
   ]
  },
  {
   "cell_type": "code",
   "execution_count": 29,
   "metadata": {},
   "outputs": [
    {
     "data": {
      "text/plain": [
       "warning: there was one deprecation warning; re-run with -deprecation for details\n"
      ]
     },
     "metadata": {},
     "output_type": "display_data",
     "source": "user"
    }
   ],
   "source": [
    "df.registerTempTable(\"df\")"
   ]
  },
  {
   "cell_type": "code",
   "execution_count": 32,
   "metadata": {},
   "outputs": [
    {
     "name": "stdout",
     "output_type": "stream",
     "text": [
      "+-----+\n",
      "| name|\n",
      "+-----+\n",
      "|Vanya|\n",
      "+-----+\n",
      "\n"
     ]
    }
   ],
   "source": [
    "spark.sql(\"\"\"\n",
    "    select *\n",
    "    from df\n",
    "    where name = \"Vanya\"\n",
    "\"\"\").show"
   ]
  },
  {
   "cell_type": "markdown",
   "metadata": {},
   "source": [
    "Функции над колонками\n",
    "\n",
    "https://spark.apache.org/docs/latest/api/java/org/apache/spark/sql/functions.html"
   ]
  },
  {
   "cell_type": "code",
   "execution_count": 34,
   "metadata": {},
   "outputs": [
    {
     "name": "stdout",
     "output_type": "stream",
     "text": [
      "+-----+------+--------+\n",
      "| name|length|constant|\n",
      "+-----+------+--------+\n",
      "|Vanya|     5|       1|\n",
      "|Petya|     5|       1|\n",
      "|Vasya|     5|       1|\n",
      "+-----+------+--------+\n",
      "\n"
     ]
    },
    {
     "data": {
      "text/plain": [
       "dfWithLength = [name: string, length: int ... 1 more field]\n"
      ]
     },
     "metadata": {},
     "output_type": "display_data",
     "source": "user"
    },
    {
     "data": {
      "text/plain": [
       "[name: string, length: int ... 1 more field]"
      ]
     },
     "execution_count": 34,
     "metadata": {},
     "output_type": "execute_result"
    }
   ],
   "source": [
    "val dfWithLength = df\n",
    "    .withColumn(\"length\", length(col(\"name\")))\n",
    "    .withColumn(\"constant\", lit(1))\n",
    "dfWithLength.show"
   ]
  },
  {
   "cell_type": "code",
   "execution_count": 35,
   "metadata": {},
   "outputs": [
    {
     "name": "stdout",
     "output_type": "stream",
     "text": [
      "+-----+------+--------+---+---+---+\n",
      "| name|length|constant| l1| l2| l3|\n",
      "+-----+------+--------+---+---+---+\n",
      "|Vanya|     5|       1|  4|  1| 15|\n",
      "|Petya|     5|       1|  4|  1| 15|\n",
      "|Vasya|     5|       1|  4|  1| 15|\n",
      "+-----+------+--------+---+---+---+\n",
      "\n"
     ]
    }
   ],
   "source": [
    "dfWithLength\n",
    "    .select(\n",
    "        col(\"*\"),\n",
    "        (col(\"length\") - 1).as(\"l1\"),\n",
    "        (col(\"length\") % 2).alias(\"l2\"),\n",
    "        (col(\"length\") * 3).name(\"l3\")\n",
    "    ).show"
   ]
  },
  {
   "cell_type": "code",
   "execution_count": 36,
   "metadata": {},
   "outputs": [
    {
     "name": "stdout",
     "output_type": "stream",
     "text": [
      "+-----+--------+\n",
      "| name|constant|\n",
      "+-----+--------+\n",
      "|Vanya|       1|\n",
      "|Petya|       1|\n",
      "|Vasya|       1|\n",
      "+-----+--------+\n",
      "\n"
     ]
    }
   ],
   "source": [
    "dfWithLength.drop(\"length\").show"
   ]
  },
  {
   "cell_type": "markdown",
   "metadata": {},
   "source": [
    "## Пропуски"
   ]
  },
  {
   "cell_type": "markdown",
   "metadata": {},
   "source": [
    "Посмотрим на датасет со статистиками игроков NBA\n",
    "\n",
    "https://www.kaggle.com/drgilermo/nba-players-stats"
   ]
  },
  {
   "cell_type": "code",
   "execution_count": 37,
   "metadata": {},
   "outputs": [
    {
     "data": {
      "text/plain": [
       "players = [_c0: int, Player: string ... 6 more fields]\n"
      ]
     },
     "metadata": {},
     "output_type": "display_data",
     "source": "user"
    },
    {
     "data": {
      "text/plain": [
       "[_c0: int, Player: string ... 6 more fields]"
      ]
     },
     "execution_count": 37,
     "metadata": {},
     "output_type": "execute_result"
    }
   ],
   "source": [
    "val players = spark.read.options(Map(\n",
    "    \"header\" -> \"true\",\n",
    "    \"inferSchema\" -> \"true\"\n",
    ")).csv(\"data/Players.csv\")"
   ]
  },
  {
   "cell_type": "code",
   "execution_count": 38,
   "metadata": {},
   "outputs": [
    {
     "name": "stdout",
     "output_type": "stream",
     "text": [
      "+---+----------------+------+------+-------------------------------+----+-------------+------------+\n",
      "|_c0|Player          |height|weight|collage                        |born|birth_city   |birth_state |\n",
      "+---+----------------+------+------+-------------------------------+----+-------------+------------+\n",
      "|0  |Curly Armstrong |180   |77    |Indiana University             |1918|null         |null        |\n",
      "|1  |Cliff Barker    |188   |83    |University of Kentucky         |1921|Yorktown     |Indiana     |\n",
      "|2  |Leo Barnhorst   |193   |86    |University of Notre Dame       |1924|null         |null        |\n",
      "|3  |Ed Bartels      |196   |88    |North Carolina State University|1925|null         |null        |\n",
      "|4  |Ralph Beard     |178   |79    |University of Kentucky         |1927|Hardinsburg  |Kentucky    |\n",
      "|5  |Gene Berce      |180   |79    |Marquette University           |1926|null         |null        |\n",
      "|6  |Charlie Black   |196   |90    |University of Kansas           |1921|Arco         |Idaho       |\n",
      "|7  |Nelson Bobb     |183   |77    |Temple University              |1924|Philadelphia |Pennsylvania|\n",
      "|8  |Jake Bornheimer |196   |90    |Muhlenberg College             |1927|New Brunswick|New Jersey  |\n",
      "|9  |Vince Boryla    |196   |95    |University of Denver           |1927|East Chicago |Indiana     |\n",
      "|10 |Don Boven       |193   |95    |Western Michigan University    |1925|Kalamazoo    |Michigan    |\n",
      "|11 |Harry Boykoff   |208   |102   |St. John's University          |1922|Brooklyn     |New York    |\n",
      "|12 |Joe Bradley     |190   |79    |Oklahoma State University      |1928|Washington   |Oklahoma    |\n",
      "|13 |Bob Brannum     |196   |97    |Michigan State University      |1925|null         |null        |\n",
      "|14 |Carl Braun      |196   |81    |Colgate University             |1927|Brooklyn     |New York    |\n",
      "|15 |Frankie Brian   |185   |81    |Louisiana State University     |1923|Zachary      |Louisiana   |\n",
      "|16 |Price Brookfield|193   |83    |West Texas A&M University      |1920|Floydada     |Texas       |\n",
      "|17 |Bob Brown       |193   |92    |Miami University               |1923|Versailles   |Ohio        |\n",
      "|18 |Jim Browne      |208   |106   |null                           |1930|Midlothian   |Illinois    |\n",
      "|19 |Walt Budko      |196   |99    |Columbia University            |1925|Kearney      |New Jersey  |\n",
      "+---+----------------+------+------+-------------------------------+----+-------------+------------+\n",
      "only showing top 20 rows\n",
      "\n"
     ]
    }
   ],
   "source": [
    "players.show(truncate=false)"
   ]
  },
  {
   "cell_type": "code",
   "execution_count": 39,
   "metadata": {},
   "outputs": [
    {
     "data": {
      "text/plain": [
       "3922"
      ]
     },
     "execution_count": 39,
     "metadata": {},
     "output_type": "execute_result"
    }
   ],
   "source": [
    "players.count()"
   ]
  },
  {
   "cell_type": "code",
   "execution_count": 44,
   "metadata": {},
   "outputs": [
    {
     "data": {
      "text/plain": [
       "filler = Map(height -> 0, weight -> 0, collage -> \"\")\n",
       "filledPlayers = [_c0: int, Player: string ... 6 more fields]\n"
      ]
     },
     "metadata": {},
     "output_type": "display_data",
     "source": "user"
    },
    {
     "data": {
      "text/plain": [
       "lastException: Throwable = null\n"
      ]
     },
     "metadata": {},
     "output_type": "display_data",
     "source": "user"
    },
    {
     "data": {
      "text/plain": [
       "[_c0: int, Player: string ... 6 more fields]"
      ]
     },
     "execution_count": 44,
     "metadata": {},
     "output_type": "execute_result"
    }
   ],
   "source": [
    "val filler = Map(\n",
    "    \"height\" -> 0,\n",
    "    \"weight\" -> 0,\n",
    "    \"collage\" -> \"\"\n",
    ")\n",
    "\n",
    "val filledPlayers = players\n",
    "    .na.drop(Seq(\"born\"))\n",
    "    .na.fill(filler)"
   ]
  },
  {
   "cell_type": "code",
   "execution_count": 45,
   "metadata": {},
   "outputs": [
    {
     "data": {
      "text/plain": [
       "findState = UserDefinedFunction(<function1>,StringType,Some(List(StringType)))\n"
      ]
     },
     "metadata": {},
     "output_type": "display_data",
     "source": "user"
    },
    {
     "data": {
      "text/plain": [
       "UserDefinedFunction(<function1>,StringType,Some(List(StringType)))"
      ]
     },
     "execution_count": 45,
     "metadata": {},
     "output_type": "execute_result"
    }
   ],
   "source": [
    "val findState = udf((collage: String) => {\n",
    "    collage.toLowerCase.replace(\"state\", \"\").replace(\"university\", \"\").replace(\"of\", \"\").replace(\" \", \"\").capitalize\n",
    "})"
   ]
  },
  {
   "cell_type": "code",
   "execution_count": 63,
   "metadata": {},
   "outputs": [
    {
     "data": {
      "text/plain": [
       "fromUniversity = [_c0: int, Player: string ... 7 more fields]\n"
      ]
     },
     "metadata": {},
     "output_type": "display_data",
     "source": "user"
    },
    {
     "data": {
      "text/plain": [
       "[_c0: int, Player: string ... 7 more fields]"
      ]
     },
     "execution_count": 63,
     "metadata": {},
     "output_type": "execute_result"
    }
   ],
   "source": [
    "val fromUniversity = filledPlayers\n",
    "    .withColumn(\"fromUniverity\", findState(col(\"collage\")))"
   ]
  },
  {
   "cell_type": "code",
   "execution_count": 65,
   "metadata": {},
   "outputs": [
    {
     "data": {
      "text/plain": [
       "northCarolina = [_c0: int, Player: string ... 7 more fields]\n"
      ]
     },
     "metadata": {},
     "output_type": "display_data",
     "source": "user"
    },
    {
     "data": {
      "text/plain": [
       "[_c0: int, Player: string ... 7 more fields]"
      ]
     },
     "execution_count": 65,
     "metadata": {},
     "output_type": "execute_result"
    }
   ],
   "source": [
    "val northCarolina = fromUniversity\n",
    "    .na.replace(\"fromUniverity\", Map(\"Northcarolina\" -> \"North Carolina\"))"
   ]
  },
  {
   "cell_type": "code",
   "execution_count": 66,
   "metadata": {},
   "outputs": [
    {
     "name": "stdout",
     "output_type": "stream",
     "text": [
      "+---+----------------+------+------+--------------------+----+-------------+------------+-----------------+\n",
      "|_c0|          Player|height|weight|             collage|born|   birth_city| birth_state|    fromUniverity|\n",
      "+---+----------------+------+------+--------------------+----+-------------+------------+-----------------+\n",
      "|  0| Curly Armstrong|   180|    77|  Indiana University|1918|         null|        null|          Indiana|\n",
      "|  1|    Cliff Barker|   188|    83|University of Ken...|1921|     Yorktown|     Indiana|         Kentucky|\n",
      "|  2|   Leo Barnhorst|   193|    86|University of Not...|1924|         null|        null|        Notredame|\n",
      "|  3|      Ed Bartels|   196|    88|North Carolina St...|1925|         null|        null|   North Carolina|\n",
      "|  4|     Ralph Beard|   178|    79|University of Ken...|1927|  Hardinsburg|    Kentucky|         Kentucky|\n",
      "|  5|      Gene Berce|   180|    79|Marquette University|1926|         null|        null|        Marquette|\n",
      "|  6|   Charlie Black|   196|    90|University of Kansas|1921|         Arco|       Idaho|           Kansas|\n",
      "|  7|     Nelson Bobb|   183|    77|   Temple University|1924| Philadelphia|Pennsylvania|           Temple|\n",
      "|  8| Jake Bornheimer|   196|    90|  Muhlenberg College|1927|New Brunswick|  New Jersey|Muhlenbergcollege|\n",
      "|  9|    Vince Boryla|   196|    95|University of Denver|1927| East Chicago|     Indiana|           Denver|\n",
      "| 10|       Don Boven|   193|    95|Western Michigan ...|1925|    Kalamazoo|    Michigan|  Westernmichigan|\n",
      "| 11|   Harry Boykoff|   208|   102|St. John's Univer...|1922|     Brooklyn|    New York|        St.john's|\n",
      "| 12|     Joe Bradley|   190|    79|Oklahoma State Un...|1928|   Washington|    Oklahoma|         Oklahoma|\n",
      "| 13|     Bob Brannum|   196|    97|Michigan State Un...|1925|         null|        null|         Michigan|\n",
      "| 14|      Carl Braun|   196|    81|  Colgate University|1927|     Brooklyn|    New York|          Colgate|\n",
      "| 15|   Frankie Brian|   185|    81|Louisiana State U...|1923|      Zachary|   Louisiana|        Louisiana|\n",
      "| 16|Price Brookfield|   193|    83|West Texas A&M Un...|1920|     Floydada|       Texas|     Westtexasa&m|\n",
      "| 17|       Bob Brown|   193|    92|    Miami University|1923|   Versailles|        Ohio|            Miami|\n",
      "| 18|      Jim Browne|   208|   106|                    |1930|   Midlothian|    Illinois|                 |\n",
      "| 19|      Walt Budko|   196|    99| Columbia University|1925|      Kearney|  New Jersey|         Columbia|\n",
      "+---+----------------+------+------+--------------------+----+-------------+------------+-----------------+\n",
      "only showing top 20 rows\n",
      "\n"
     ]
    }
   ],
   "source": [
    "northCarolina.show"
   ]
  },
  {
   "cell_type": "code",
   "execution_count": 67,
   "metadata": {},
   "outputs": [
    {
     "name": "stdout",
     "output_type": "stream",
     "text": [
      "+---+----------------+------+------+--------------------+----+-------------+------------+-----------------+--------------+\n",
      "|_c0|          Player|height|weight|             collage|born|   birth_city| birth_state|    fromUniverity|      new_city|\n",
      "+---+----------------+------+------+--------------------+----+-------------+------------+-----------------+--------------+\n",
      "|  0| Curly Armstrong|   180|    77|  Indiana University|1918|         null|        null|          Indiana|       Indiana|\n",
      "|  1|    Cliff Barker|   188|    83|University of Ken...|1921|     Yorktown|     Indiana|         Kentucky|      Yorktown|\n",
      "|  2|   Leo Barnhorst|   193|    86|University of Not...|1924|         null|        null|        Notredame|     Notredame|\n",
      "|  3|      Ed Bartels|   196|    88|North Carolina St...|1925|         null|        null|   North Carolina|North Carolina|\n",
      "|  4|     Ralph Beard|   178|    79|University of Ken...|1927|  Hardinsburg|    Kentucky|         Kentucky|   Hardinsburg|\n",
      "|  5|      Gene Berce|   180|    79|Marquette University|1926|         null|        null|        Marquette|     Marquette|\n",
      "|  6|   Charlie Black|   196|    90|University of Kansas|1921|         Arco|       Idaho|           Kansas|          Arco|\n",
      "|  7|     Nelson Bobb|   183|    77|   Temple University|1924| Philadelphia|Pennsylvania|           Temple|  Philadelphia|\n",
      "|  8| Jake Bornheimer|   196|    90|  Muhlenberg College|1927|New Brunswick|  New Jersey|Muhlenbergcollege| New Brunswick|\n",
      "|  9|    Vince Boryla|   196|    95|University of Denver|1927| East Chicago|     Indiana|           Denver|  East Chicago|\n",
      "| 10|       Don Boven|   193|    95|Western Michigan ...|1925|    Kalamazoo|    Michigan|  Westernmichigan|     Kalamazoo|\n",
      "| 11|   Harry Boykoff|   208|   102|St. John's Univer...|1922|     Brooklyn|    New York|        St.john's|      Brooklyn|\n",
      "| 12|     Joe Bradley|   190|    79|Oklahoma State Un...|1928|   Washington|    Oklahoma|         Oklahoma|    Washington|\n",
      "| 13|     Bob Brannum|   196|    97|Michigan State Un...|1925|         null|        null|         Michigan|      Michigan|\n",
      "| 14|      Carl Braun|   196|    81|  Colgate University|1927|     Brooklyn|    New York|          Colgate|      Brooklyn|\n",
      "| 15|   Frankie Brian|   185|    81|Louisiana State U...|1923|      Zachary|   Louisiana|        Louisiana|       Zachary|\n",
      "| 16|Price Brookfield|   193|    83|West Texas A&M Un...|1920|     Floydada|       Texas|     Westtexasa&m|      Floydada|\n",
      "| 17|       Bob Brown|   193|    92|    Miami University|1923|   Versailles|        Ohio|            Miami|    Versailles|\n",
      "| 18|      Jim Browne|   208|   106|                    |1930|   Midlothian|    Illinois|                 |    Midlothian|\n",
      "| 19|      Walt Budko|   196|    99| Columbia University|1925|      Kearney|  New Jersey|         Columbia|       Kearney|\n",
      "+---+----------------+------+------+--------------------+----+-------------+------------+-----------------+--------------+\n",
      "only showing top 20 rows\n",
      "\n"
     ]
    },
    {
     "data": {
      "text/plain": [
       "withNewCity = [_c0: int, Player: string ... 8 more fields]\n"
      ]
     },
     "metadata": {},
     "output_type": "display_data",
     "source": "user"
    },
    {
     "data": {
      "text/plain": [
       "[_c0: int, Player: string ... 8 more fields]"
      ]
     },
     "execution_count": 67,
     "metadata": {},
     "output_type": "execute_result"
    }
   ],
   "source": [
    "val withNewCity = northCarolina\n",
    "    .withColumn(\"new_city\", coalesce(col(\"birth_city\"), col(\"fromUniverity\")))\n",
    "\n",
    "withNewCity.show"
   ]
  },
  {
   "cell_type": "markdown",
   "metadata": {},
   "source": [
    "## Агрегаты"
   ]
  },
  {
   "cell_type": "code",
   "execution_count": 68,
   "metadata": {},
   "outputs": [
    {
     "name": "stdout",
     "output_type": "stream",
     "text": [
      "+------------+-----+\n",
      "|    new_city|count|\n",
      "+------------+-----+\n",
      "|     Chicago|  114|\n",
      "|            |   93|\n",
      "| Los Angeles|   88|\n",
      "|Philadelphia|   83|\n",
      "|    Brooklyn|   76|\n",
      "|    New York|   71|\n",
      "|  Washington|   65|\n",
      "|     Detroit|   58|\n",
      "|   Baltimore|   37|\n",
      "|     Atlanta|   37|\n",
      "|      Dallas|   33|\n",
      "|     Houston|   33|\n",
      "|     Memphis|   31|\n",
      "|  Louisville|   28|\n",
      "|     Seattle|   25|\n",
      "|     Oakland|   25|\n",
      "|  Birmingham|   24|\n",
      "|    Columbus|   24|\n",
      "| New Orleans|   23|\n",
      "|   St. Louis|   22|\n",
      "+------------+-----+\n",
      "only showing top 20 rows\n",
      "\n"
     ]
    }
   ],
   "source": [
    "withNewCity\n",
    "    .groupBy(\"new_city\")\n",
    "    .count()\n",
    "    .orderBy(desc(\"count\"))\n",
    "    .show"
   ]
  },
  {
   "cell_type": "code",
   "execution_count": 69,
   "metadata": {},
   "outputs": [
    {
     "name": "stdout",
     "output_type": "stream",
     "text": [
      "+------------+-----+----------+-----------------+----------+\n",
      "|    new_city|count|min_weight|      mean_weight|max_weight|\n",
      "+------------+-----+----------+-----------------+----------+\n",
      "|     Chicago|  114|        72|94.16666666666667|       149|\n",
      "|            |   93|        70|95.03225806451613|       124|\n",
      "| Los Angeles|   88|        74|92.81818181818181|       122|\n",
      "|Philadelphia|   83|        73|90.81927710843374|       125|\n",
      "|    Brooklyn|   76|        74| 90.6842105263158|       117|\n",
      "|    New York|   71|        68|88.78873239436619|       121|\n",
      "|  Washington|   65|        74|92.56923076923077|       113|\n",
      "|     Detroit|   58|        68|94.08620689655173|       128|\n",
      "|   Baltimore|   37|        61| 94.8108108108108|       124|\n",
      "|     Atlanta|   37|        79|98.89189189189189|       122|\n",
      "|     Houston|   33|        77|97.81818181818181|       120|\n",
      "|      Dallas|   33|        60| 95.3030303030303|       127|\n",
      "|     Memphis|   31|        68| 90.3225806451613|       119|\n",
      "|  Louisville|   28|        74|91.42857142857143|       120|\n",
      "|     Seattle|   25|        73|            91.08|       111|\n",
      "|     Oakland|   25|        81|             93.4|       113|\n",
      "|  Birmingham|   24|        72|90.70833333333333|       106|\n",
      "|    Columbus|   24|        79|96.91666666666667|       117|\n",
      "| New Orleans|   23|        79|90.78260869565217|       120|\n",
      "|   St. Louis|   22|        78|96.86363636363636|       131|\n",
      "+------------+-----+----------+-----------------+----------+\n",
      "only showing top 20 rows\n",
      "\n"
     ]
    },
    {
     "data": {
      "text/plain": [
       "aggregates = [new_city: string, count: bigint ... 3 more fields]\n"
      ]
     },
     "metadata": {},
     "output_type": "display_data",
     "source": "user"
    },
    {
     "data": {
      "text/plain": [
       "[new_city: string, count: bigint ... 3 more fields]"
      ]
     },
     "execution_count": 69,
     "metadata": {},
     "output_type": "execute_result"
    }
   ],
   "source": [
    "val aggregates = withNewCity\n",
    "    .groupBy(\"new_city\")\n",
    "    .agg(\n",
    "        count(\"*\").as(\"count\"),\n",
    "        min(col(\"weight\")).as(\"min_weight\"),\n",
    "        mean(col(\"weight\")).as(\"mean_weight\"),\n",
    "        max(col(\"weight\")).as(\"max_weight\")\n",
    "    )\n",
    "    .orderBy(desc(\"count\"))\n",
    "\n",
    "aggregates.show"
   ]
  },
  {
   "cell_type": "markdown",
   "metadata": {},
   "source": [
    "## Оконные функции"
   ]
  },
  {
   "cell_type": "code",
   "execution_count": 70,
   "metadata": {},
   "outputs": [],
   "source": [
    "import org.apache.spark.sql.expressions.Window"
   ]
  },
  {
   "cell_type": "code",
   "execution_count": 71,
   "metadata": {},
   "outputs": [
    {
     "name": "stdout",
     "output_type": "stream",
     "text": [
      "+----+----------------+------+------+--------------------+----+----------+-----------+--------------------+--------+--------------+\n",
      "| _c0|          Player|height|weight|             collage|born|birth_city|birth_state|       fromUniverity|new_city|count_new_city|\n",
      "+----+----------------+------+------+--------------------+----+----------+-----------+--------------------+--------+--------------+\n",
      "|3741|   Jabari Parker|   203|   113|     Duke University|1995|   Chicago|   Illinois|                Duke| Chicago|           114|\n",
      "|3761| Cliff Alexander|   203|   111|University of Kansas|1995|   Chicago|   Illinois|              Kansas| Chicago|           114|\n",
      "|3808|   Jahlil Okafor|   211|   124|     Duke University|1995|   Chicago|   Illinois|                Duke| Chicago|           114|\n",
      "|3576|   Quincy Miller|   206|    95|   Baylor University|1992|   Chicago|   Illinois|              Baylor| Chicago|           111|\n",
      "|3445|     Evan Turner|   201|    99|Ohio State Univer...|1988|   Chicago|   Illinois|                Ohio| Chicago|           110|\n",
      "|3538|Patrick Beverley|   185|    83|University of Ark...|1988|   Chicago|   Illinois|            Arkansas| Chicago|           110|\n",
      "|3494| DeAndre Liggins|   198|    94|University of Ken...|1988|   Chicago|   Illinois|            Kentucky| Chicago|           110|\n",
      "|3313|    Derrick Rose|   190|    86|University of Mem...|1988|   Chicago|   Illinois|             Memphis| Chicago|           110|\n",
      "|3264|   Julian Wright|   203|   102|University of Kansas|1987|   Chicago|   Illinois|              Kansas| Chicago|           106|\n",
      "|3397| Sherron Collins|   180|    92|University of Kansas|1987|   Chicago|   Illinois|              Kansas| Chicago|           106|\n",
      "|3731|    Jerel McNeal|   190|    90|Marquette University|1987|   Chicago|   Illinois|           Marquette| Chicago|           106|\n",
      "|3502|    Jeremy Pargo|   188|    99|  Gonzaga University|1986|   Chicago|   Illinois|             Gonzaga| Chicago|           103|\n",
      "|3318|     Mike Taylor|   188|    74|Iowa State Univer...|1986|   Chicago|   Illinois|                Iowa| Chicago|           103|\n",
      "|3364|  Othyus Jeffers|   196|    90|Robert Morris Uni...|1985|   Chicago|   Illinois|    Robertmorris(il)| Chicago|           101|\n",
      "|3088|        Sean May|   206|   120|University of Nor...|1984|   Chicago|   Illinois|      North Carolina| Chicago|           100|\n",
      "|3200| Justin Williams|   208|   102|University of Wyo...|1984|   Chicago|   Illinois|             Wyoming| Chicago|           100|\n",
      "|3157|       Mike Hall|   203|   104|George Washington...|1984|   Chicago|   Illinois|    Georgewashington| Chicago|           100|\n",
      "|3053|      Will Bynum|   183|    83|Georgia Institute...|1983|   Chicago|   Illinois|Georgiainstitutet...| Chicago|            97|\n",
      "|3087|   Jason Maxiell|   201|   117|University of Cin...|1983|   Chicago|   Illinois|          Cincinnati| Chicago|            97|\n",
      "|2974|      Tony Allen|   193|    96|Oklahoma State Un...|1982|   Chicago|   Illinois|            Oklahoma| Chicago|            95|\n",
      "+----+----------------+------+------+--------------------+----+----------+-----------+--------------------+--------+--------------+\n",
      "only showing top 20 rows\n",
      "\n"
     ]
    },
    {
     "data": {
      "text/plain": [
       "window = org.apache.spark.sql.expressions.WindowSpec@545da373\n"
      ]
     },
     "metadata": {},
     "output_type": "display_data",
     "source": "user"
    },
    {
     "data": {
      "text/plain": [
       "org.apache.spark.sql.expressions.WindowSpec@545da373"
      ]
     },
     "execution_count": 71,
     "metadata": {},
     "output_type": "execute_result"
    }
   ],
   "source": [
    "val window = Window.partitionBy(\"new_city\").orderBy(\"born\")\n",
    "\n",
    "withNewCity\n",
    ".withColumn(\"count_new_city\", count(\"*\").over(window)).orderBy(desc(\"count_new_city\"))\n",
    ".show\n"
   ]
  },
  {
   "cell_type": "markdown",
   "metadata": {},
   "source": [
    "## Joins"
   ]
  },
  {
   "cell_type": "code",
   "execution_count": 72,
   "metadata": {},
   "outputs": [
    {
     "data": {
      "text/plain": [
       "seasonStats = [_c0: int, Year: int ... 51 more fields]\n"
      ]
     },
     "metadata": {},
     "output_type": "display_data",
     "source": "user"
    },
    {
     "data": {
      "text/plain": [
       "[_c0: int, Year: int ... 51 more fields]"
      ]
     },
     "execution_count": 72,
     "metadata": {},
     "output_type": "execute_result"
    }
   ],
   "source": [
    "val seasonStats = spark.read.options(Map(\n",
    "    \"header\" -> \"true\",\n",
    "    \"inferSchema\" -> \"true\"\n",
    ")).csv(\"data/Seasons_Stats.csv\")"
   ]
  },
  {
   "cell_type": "markdown",
   "metadata": {},
   "source": [
    "Посчитаем долю игр игрока относительно наибольшего числа игр сыгранных его командой"
   ]
  },
  {
   "cell_type": "code",
   "execution_count": 73,
   "metadata": {},
   "outputs": [
    {
     "data": {
      "text/plain": [
       "maxGames = [Year: int, Tm: string ... 1 more field]\n"
      ]
     },
     "metadata": {},
     "output_type": "display_data",
     "source": "user"
    },
    {
     "data": {
      "text/plain": [
       "[Year: int, Tm: string ... 1 more field]"
      ]
     },
     "execution_count": 73,
     "metadata": {},
     "output_type": "execute_result"
    }
   ],
   "source": [
    "val maxGames = seasonStats\n",
    "    .groupBy(col(\"Year\"), col(\"Tm\"))\n",
    "    .agg(max(\"G\").as(\"maxGames\"))"
   ]
  },
  {
   "cell_type": "code",
   "execution_count": 74,
   "metadata": {},
   "outputs": [
    {
     "name": "stdout",
     "output_type": "stream",
     "text": [
      "+---+----+---------------+---+--------+-----+\n",
      "| Tm|Year|         Player|  G|maxGames|  pct|\n",
      "+---+----+---------------+---+--------+-----+\n",
      "|FTW|1950|Curly Armstrong| 63|      68|92.65|\n",
      "|INO|1950|   Cliff Barker| 49|      64|76.56|\n",
      "|CHS|1950|  Leo Barnhorst| 67|      68|98.53|\n",
      "|TOT|1950|     Ed Bartels| 15|      69|21.74|\n",
      "|DNN|1950|     Ed Bartels| 13|      62|20.97|\n",
      "|NYK|1950|     Ed Bartels|  2|      68| 2.94|\n",
      "|INO|1950|    Ralph Beard| 60|      64|93.75|\n",
      "|TRI|1950|     Gene Berce|  3|      64| 4.69|\n",
      "|TOT|1950|  Charlie Black| 65|      69| 94.2|\n",
      "|FTW|1950|  Charlie Black| 36|      68|52.94|\n",
      "|AND|1950|  Charlie Black| 29|      64|45.31|\n",
      "|PHW|1950|    Nelson Bobb| 57|      68|83.82|\n",
      "|PHW|1950|Jake Bornheimer| 60|      68|88.24|\n",
      "|NYK|1950|   Vince Boryla| 59|      68|86.76|\n",
      "|WAT|1950|      Don Boven| 62|      62|100.0|\n",
      "|WAT|1950|  Harry Boykoff| 61|      62|98.39|\n",
      "|CHS|1950|    Joe Bradley| 46|      68|67.65|\n",
      "|SHE|1950|    Bob Brannum| 59|      62|95.16|\n",
      "|NYK|1950|     Carl Braun| 67|      68|98.53|\n",
      "|AND|1950|  Frankie Brian| 64|      64|100.0|\n",
      "+---+----+---------------+---+--------+-----+\n",
      "only showing top 20 rows\n",
      "\n"
     ]
    }
   ],
   "source": [
    "seasonStats\n",
    "    .select(col(\"Player\"), col(\"Year\"), col(\"Tm\"), col(\"G\"))\n",
    "    .join(maxGames, Seq(\"Tm\", \"Year\"), \"left\")\n",
    "    .withColumn(\"pct\", round(col(\"G\") / col(\"maxGames\") * lit(100), 2))\n",
    "    .show"
   ]
  },
  {
   "cell_type": "markdown",
   "metadata": {},
   "source": [
    "## Репартиционирование"
   ]
  },
  {
   "cell_type": "code",
   "execution_count": 75,
   "metadata": {},
   "outputs": [
    {
     "data": {
      "text/plain": [
       "printItemPerPartition: [T](ds: org.apache.spark.sql.DataFrame)Unit\n"
      ]
     },
     "metadata": {},
     "output_type": "display_data",
     "source": "user"
    },
    {
     "name": "stdout",
     "output_type": "stream",
     "text": [
      "+----------------+\n",
      "|itemPerPartition|\n",
      "+----------------+\n",
      "|20463           |\n",
      "|4228            |\n",
      "+----------------+\n",
      "\n"
     ]
    }
   ],
   "source": [
    "def printItemPerPartition[T](ds: DataFrame): Unit = {\n",
    "    ds.mapPartitions { x => Iterator(x.length) }\n",
    "    .withColumnRenamed(\"value\", \"itemPerPartition\")\n",
    "    .show(50, false)\n",
    "}\n",
    "\n",
    "printItemPerPartition[java.lang.Long](seasonStats)"
   ]
  },
  {
   "cell_type": "code",
   "execution_count": 76,
   "metadata": {},
   "outputs": [
    {
     "name": "stdout",
     "output_type": "stream",
     "text": [
      "+----------------+\n",
      "|itemPerPartition|\n",
      "+----------------+\n",
      "|2340            |\n",
      "|2344            |\n",
      "|2553            |\n",
      "|2409            |\n",
      "|2465            |\n",
      "|2394            |\n",
      "|2662            |\n",
      "|2422            |\n",
      "|2503            |\n",
      "|2599            |\n",
      "+----------------+\n",
      "\n"
     ]
    },
    {
     "data": {
      "text/plain": [
       "repartStats = [_c0: int, Year: int ... 51 more fields]\n"
      ]
     },
     "metadata": {},
     "output_type": "display_data",
     "source": "user"
    },
    {
     "data": {
      "text/plain": [
       "[_c0: int, Year: int ... 51 more fields]"
      ]
     },
     "execution_count": 76,
     "metadata": {},
     "output_type": "execute_result"
    }
   ],
   "source": [
    "val repartStats = seasonStats.repartition(10, col(\"Player\"))\n",
    "printItemPerPartition[java.lang.Long](repartStats)"
   ]
  },
  {
   "cell_type": "code",
   "execution_count": null,
   "metadata": {},
   "outputs": [],
   "source": []
  }
 ],
 "metadata": {
  "kernelspec": {
   "display_name": "Apache Toree - Scala",
   "language": "scala",
   "name": "apache_toree_scala"
  },
  "language_info": {
   "codemirror_mode": "text/x-scala",
   "file_extension": ".scala",
   "mimetype": "text/x-scala",
   "name": "scala",
   "pygments_lexer": "scala",
   "version": "2.11.12"
  }
 },
 "nbformat": 4,
 "nbformat_minor": 4
}
