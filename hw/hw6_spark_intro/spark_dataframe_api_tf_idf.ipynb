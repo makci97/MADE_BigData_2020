{
 "cells": [
  {
   "cell_type": "code",
   "execution_count": 1,
   "metadata": {},
   "outputs": [],
   "source": [
    "import org.apache.spark.sql._\n",
    "import org.apache.spark.sql.types._\n",
    "import org.apache.spark.sql.functions._\n",
    "\n",
    "import org.apache.spark.rdd.RDD"
   ]
  },
  {
   "cell_type": "code",
   "execution_count": 2,
   "metadata": {},
   "outputs": [
    {
     "data": {
      "text/plain": [
       "spark = org.apache.spark.sql.SparkSession@8487697\n"
      ]
     },
     "metadata": {},
     "output_type": "display_data",
     "source": "user"
    },
    {
     "data": {
      "text/plain": [
       "org.apache.spark.sql.SparkSession@8487697"
      ]
     },
     "execution_count": 2,
     "metadata": {},
     "output_type": "execute_result"
    }
   ],
   "source": [
    "val spark = SparkSession.builder()\n",
    "    // адрес мастера\n",
    "    .master(\"local[*]\")\n",
    "    // имя приложения в интерфейсе спарка\n",
    "    .appName(\"made-demo\")\n",
    "//     .config(\"spark.executor.memory\",  \"2g\")\n",
    "//     .config(\"spark.executor.cores\", \"2\")\n",
    "//     .config(\"spark.driver.memory\", \"2g\")\n",
    "    .getOrCreate()\n",
    "\n",
    "import spark.implicits._"
   ]
  },
  {
   "cell_type": "markdown",
   "metadata": {},
   "source": [
    "# Прочитаем датасет"
   ]
  },
  {
   "cell_type": "code",
   "execution_count": 3,
   "metadata": {},
   "outputs": [
    {
     "data": {
      "text/plain": [
       "df = [Review: string, Rating: int ... 1 more field]\n"
      ]
     },
     "metadata": {},
     "output_type": "display_data",
     "source": "user"
    },
    {
     "data": {
      "text/plain": [
       "warning: there was one deprecation warning; re-run with -deprecation for details\n"
      ]
     },
     "metadata": {},
     "output_type": "display_data",
     "source": "user"
    },
    {
     "data": {
      "text/plain": [
       "[Review: string, Rating: int ... 1 more field]"
      ]
     },
     "execution_count": 3,
     "metadata": {},
     "output_type": "execute_result"
    }
   ],
   "source": [
    "val df = spark.read\n",
    "    .option(\"header\", \"true\")\n",
    "    .option(\"inferSchema\", \"true\")\n",
    "    .csv(\"tripadvisor_hotel_reviews.csv\")\n",
    "    .withColumn(\"review_id\",monotonicallyIncreasingId)"
   ]
  },
  {
   "cell_type": "markdown",
   "metadata": {},
   "source": [
    "Почистим текст"
   ]
  },
  {
   "cell_type": "code",
   "execution_count": 4,
   "metadata": {},
   "outputs": [
    {
     "data": {
      "text/plain": [
       "df_cleaned = [review: array<string>, review_id: bigint]\n"
      ]
     },
     "metadata": {},
     "output_type": "display_data",
     "source": "user"
    },
    {
     "data": {
      "text/plain": [
       "[review: array<string>, review_id: bigint]"
      ]
     },
     "execution_count": 4,
     "metadata": {},
     "output_type": "execute_result"
    }
   ],
   "source": [
    "val df_cleaned = df\n",
    "    .withColumn(\"Review\", regexp_replace(col(\"Review\"), \"[,?!.*'0-9]\", \"\"))\n",
    "    .withColumn(\"Review\", regexp_replace(col(\"Review\"), \"\\\\s+\", \" \"))\n",
    "    .withColumn(\"Review\", lower(col(\"Review\")))\n",
    "    .withColumn(\"review\", split(col(\"Review\"), \" \"))\n",
    "    .select(col(\"review\"), col(\"review_id\"))"
   ]
  },
  {
   "cell_type": "code",
   "execution_count": 5,
   "metadata": {},
   "outputs": [
    {
     "name": "stdout",
     "output_type": "stream",
     "text": [
      "+--------------------+---------+\n",
      "|              review|review_id|\n",
      "+--------------------+---------+\n",
      "|[nice, hotel, exp...|        0|\n",
      "|[ok, nothing, spe...|        1|\n",
      "|[nice, rooms, not...|        2|\n",
      "|[unique, great, s...|        3|\n",
      "|[great, stay, gre...|        4|\n",
      "|[love, monaco, st...|        5|\n",
      "|[cozy, stay, rain...|        6|\n",
      "|[excellent, staff...|        7|\n",
      "|[hotel, stayed, h...|        8|\n",
      "|[excellent, staye...|        9|\n",
      "|[poor, value, sta...|       10|\n",
      "|[nice, value, sea...|       11|\n",
      "|[nice, hotel, goo...|       12|\n",
      "|[nice, hotel, not...|       13|\n",
      "|[great, hotel, ni...|       14|\n",
      "|[horrible, custom...|       15|\n",
      "|[disappointed, sa...|       16|\n",
      "|[fantastic, stay,...|       17|\n",
      "|[good, choice, ho...|       18|\n",
      "|[hmmmmm, say, rea...|       19|\n",
      "+--------------------+---------+\n",
      "only showing top 20 rows\n",
      "\n"
     ]
    }
   ],
   "source": [
    "df_cleaned.show"
   ]
  },
  {
   "cell_type": "markdown",
   "metadata": {},
   "source": [
    "# Найдем 100 самых частых слов"
   ]
  },
  {
   "cell_type": "code",
   "execution_count": 6,
   "metadata": {},
   "outputs": [
    {
     "data": {
      "text/plain": [
       "freq_words = [word: string]\n"
      ]
     },
     "metadata": {},
     "output_type": "display_data",
     "source": "user"
    },
    {
     "data": {
      "text/plain": [
       "[word: string]"
      ]
     },
     "execution_count": 6,
     "metadata": {},
     "output_type": "execute_result"
    }
   ],
   "source": [
    "val freq_words = df_cleaned\n",
    "    .select(col(\"review\"))\n",
    "    .as[Array[String]]\n",
    "    .flatMap(x => x)\n",
    "    .groupBy(col(\"value\"))\n",
    "    .count()\n",
    "    .orderBy(desc(\"count\"))\n",
    "    .limit(100)\n",
    "    .select(col(\"value\").as(\"word\"))"
   ]
  },
  {
   "cell_type": "code",
   "execution_count": 7,
   "metadata": {},
   "outputs": [
    {
     "name": "stdout",
     "output_type": "stream",
     "text": [
      "+--------+\n",
      "|    word|\n",
      "+--------+\n",
      "|   hotel|\n",
      "|    room|\n",
      "|     not|\n",
      "|   great|\n",
      "|        |\n",
      "|      nt|\n",
      "|    good|\n",
      "|   staff|\n",
      "|    stay|\n",
      "|     did|\n",
      "|    just|\n",
      "|    nice|\n",
      "|   rooms|\n",
      "|      no|\n",
      "|location|\n",
      "|  stayed|\n",
      "| service|\n",
      "|    time|\n",
      "|   beach|\n",
      "|   night|\n",
      "+--------+\n",
      "only showing top 20 rows\n",
      "\n"
     ]
    }
   ],
   "source": [
    "freq_words.show"
   ]
  },
  {
   "cell_type": "markdown",
   "metadata": {},
   "source": [
    "# Найдем число вхождений частых слов в соответсвующий отзыв"
   ]
  },
  {
   "cell_type": "code",
   "execution_count": 8,
   "metadata": {},
   "outputs": [
    {
     "data": {
      "text/plain": [
       "word2review_id_and_count = [word: string, review_id: decimal(38,0) ... 1 more field]\n"
      ]
     },
     "metadata": {},
     "output_type": "display_data",
     "source": "user"
    },
    {
     "data": {
      "text/plain": [
       "[word: string, review_id: decimal(38,0) ... 1 more field]"
      ]
     },
     "execution_count": 8,
     "metadata": {},
     "output_type": "execute_result"
    }
   ],
   "source": [
    "val word2review_id_and_count = df_cleaned\n",
    "    .select(col(\"review\"), col(\"review_id\"))\n",
    "    .as[(Array[String], BigInt)]\n",
    "    .flatMap { \n",
    "      case (x1, x2) => x1.map((_, x2))\n",
    "    }\n",
    "    .select(col(\"_1\").as(\"word\"), col(\"_2\").as(\"review_id\"))\n",
    "    .join(freq_words, Seq(\"word\"), \"inner\")\n",
    "    .groupBy(col(\"word\"), col(\"review_id\"))\n",
    "    .count()\n",
    "//     .show"
   ]
  },
  {
   "cell_type": "code",
   "execution_count": 9,
   "metadata": {},
   "outputs": [
    {
     "name": "stdout",
     "output_type": "stream",
     "text": [
      "+----------+---------+-----+\n",
      "|      word|review_id|count|\n",
      "+----------+---------+-----+\n",
      "|    stayed|        9|    1|\n",
      "|      area|       22|    1|\n",
      "|experience|       23|    1|\n",
      "|      days|       47|    1|\n",
      "|        no|       68|    1|\n",
      "|     rooms|       71|    2|\n",
      "|     great|       78|    2|\n",
      "|      away|       79|    2|\n",
      "|       bed|       80|    1|\n",
      "|       bed|       94|    1|\n",
      "|   service|       98|    1|\n",
      "|        nt|      110|    3|\n",
      "|     hotel|      125|    3|\n",
      "|     close|      137|    1|\n",
      "|       did|      139|    1|\n",
      "|  location|      161|    1|\n",
      "|       bit|      172|    1|\n",
      "|     place|      185|    1|\n",
      "|     staff|      196|    5|\n",
      "|        nt|      222|    1|\n",
      "+----------+---------+-----+\n",
      "only showing top 20 rows\n",
      "\n"
     ]
    }
   ],
   "source": [
    "word2review_id_and_count.show"
   ]
  },
  {
   "cell_type": "markdown",
   "metadata": {},
   "source": [
    "# Посчитаем tf"
   ]
  },
  {
   "cell_type": "code",
   "execution_count": 10,
   "metadata": {},
   "outputs": [
    {
     "data": {
      "text/plain": [
       "tf = [review_id: decimal(38,0), word: string ... 1 more field]\n"
      ]
     },
     "metadata": {},
     "output_type": "display_data",
     "source": "user"
    },
    {
     "data": {
      "text/plain": [
       "[review_id: decimal(38,0), word: string ... 1 more field]"
      ]
     },
     "execution_count": 10,
     "metadata": {},
     "output_type": "execute_result"
    }
   ],
   "source": [
    "val tf = word2review_id_and_count\n",
    "    .groupBy(\"review_id\")\n",
    "    .agg(\n",
    "        sum(col(\"count\")).as(\"n_words\")\n",
    "    )\n",
    "    .join(word2review_id_and_count, Seq(\"review_id\"), \"right\")\n",
    "    .select(col(\"review_id\"), col(\"word\"), (col(\"count\") / col(\"n_words\")).as(\"tf\"))"
   ]
  },
  {
   "cell_type": "code",
   "execution_count": 11,
   "metadata": {},
   "outputs": [
    {
     "name": "stdout",
     "output_type": "stream",
     "text": [
      "+---------+-----------+-----+\n",
      "|review_id|       word|   tf|\n",
      "+---------+-----------+-----+\n",
      "|       75|        not|0.025|\n",
      "|       75|       stay|0.025|\n",
      "|       75|  breakfast|0.025|\n",
      "|       75|      place| 0.05|\n",
      "|       75|       walk|0.025|\n",
      "|       75|     street|0.075|\n",
      "|       75|      rooms| 0.05|\n",
      "|       75|         no|0.025|\n",
      "|       75|    morning|0.025|\n",
      "|       75|restaurants|0.025|\n",
      "|       75|           |0.025|\n",
      "|       75|       best|0.025|\n",
      "|       75|      hotel|  0.1|\n",
      "|       75|     people|0.025|\n",
      "|       75|       make|0.025|\n",
      "|       75|       room| 0.05|\n",
      "|       75| experience|0.025|\n",
      "|       75|      great|0.075|\n",
      "|       75|      price|0.025|\n",
      "|       75|       want|  0.1|\n",
      "+---------+-----------+-----+\n",
      "only showing top 20 rows\n",
      "\n"
     ]
    }
   ],
   "source": [
    "tf.show"
   ]
  },
  {
   "cell_type": "markdown",
   "metadata": {},
   "source": [
    "# Посчитаем idf"
   ]
  },
  {
   "cell_type": "code",
   "execution_count": 12,
   "metadata": {},
   "outputs": [
    {
     "data": {
      "text/plain": [
       "idf = [word: string, idf: double]\n"
      ]
     },
     "metadata": {},
     "output_type": "display_data",
     "source": "user"
    },
    {
     "data": {
      "text/plain": [
       "[word: string, idf: double]"
      ]
     },
     "execution_count": 12,
     "metadata": {},
     "output_type": "execute_result"
    }
   ],
   "source": [
    "val idf = word2review_id_and_count\n",
    "    .groupBy(col(\"word\"))\n",
    "    .agg(\n",
    "        count(\"*\").as(\"n_doc_with_word\")\n",
    "    )\n",
    "    .select(col(\"word\"), (log(lit(df_cleaned.count) / col(\"n_doc_with_word\"))).as(\"idf\"))"
   ]
  },
  {
   "cell_type": "code",
   "execution_count": 13,
   "metadata": {},
   "outputs": [
    {
     "name": "stdout",
     "output_type": "stream",
     "text": [
      "+---------+-------------------+\n",
      "|     word|                idf|\n",
      "+---------+-------------------+\n",
      "|    staff| 0.5758143082987789|\n",
      "|   nights|  1.663635280607877|\n",
      "|      day| 1.2847966476150348|\n",
      "|      did| 1.0450717530287938|\n",
      "|      got| 1.5939900373832527|\n",
      "|  perfect|  2.165144995796763|\n",
      "|    lobby| 2.0890034847375505|\n",
      "|       nt| 0.8941378508607037|\n",
      "|    rooms|  0.900242364401492|\n",
      "|      not| 0.5247988061591388|\n",
      "|fantastic| 2.1732594968664496|\n",
      "|   hotels| 1.8444124355504574|\n",
      "|      new| 2.0549048693111085|\n",
      "|   lovely| 2.1962490150911482|\n",
      "|     stay| 0.7087382992819972|\n",
      "|    hotel|0.22783954389938352|\n",
      "|   resort| 1.9975348376521498|\n",
      "|      bit| 1.9351343919366228|\n",
      "|   buffet| 2.0890034847375505|\n",
      "|     area| 1.5978417513411076|\n",
      "+---------+-------------------+\n",
      "only showing top 20 rows\n",
      "\n"
     ]
    }
   ],
   "source": [
    "idf.show"
   ]
  },
  {
   "cell_type": "code",
   "execution_count": 14,
   "metadata": {},
   "outputs": [
    {
     "name": "stdout",
     "output_type": "stream",
     "text": [
      "20491\n",
      "461607\n",
      "100\n"
     ]
    }
   ],
   "source": [
    "println(df_cleaned.count)\n",
    "println(tf.count)\n",
    "println(idf.count)"
   ]
  },
  {
   "cell_type": "markdown",
   "metadata": {},
   "source": [
    "# Посчитаем tf-idf"
   ]
  },
  {
   "cell_type": "code",
   "execution_count": 15,
   "metadata": {},
   "outputs": [
    {
     "data": {
      "text/plain": [
       "tf_idf = [review_id: decimal(38,0), word: string ... 1 more field]\n"
      ]
     },
     "metadata": {},
     "output_type": "display_data",
     "source": "user"
    },
    {
     "data": {
      "text/plain": [
       "[review_id: decimal(38,0), word: string ... 1 more field]"
      ]
     },
     "execution_count": 15,
     "metadata": {},
     "output_type": "execute_result"
    }
   ],
   "source": [
    "val tf_idf = tf\n",
    "    .join(idf, Seq(\"word\"), \"left\")\n",
    "    .select(col(\"review_id\"), col(\"word\"), (col(\"tf\") * col(\"idf\")).as(\"tf_idf\"))"
   ]
  },
  {
   "cell_type": "code",
   "execution_count": 16,
   "metadata": {},
   "outputs": [
    {
     "name": "stdout",
     "output_type": "stream",
     "text": [
      "461607\n"
     ]
    }
   ],
   "source": [
    "println(tf_idf.count)"
   ]
  },
  {
   "cell_type": "code",
   "execution_count": 17,
   "metadata": {},
   "outputs": [
    {
     "name": "stdout",
     "output_type": "stream",
     "text": [
      "+-----------+------+--------------------+\n",
      "|  review_id|  word|              tf_idf|\n",
      "+-----------+------+--------------------+\n",
      "|        215|nights|0.046212091127996575|\n",
      "|        325|nights| 0.19572179771857376|\n",
      "|       1171|nights|  0.0723319687220816|\n",
      "|       1715|nights| 0.04377987580547044|\n",
      "|       2252|nights| 0.03868919257227621|\n",
      "|       3595|nights|0.035023900644376355|\n",
      "| 8589936533|nights|0.055454509353595895|\n",
      "| 8589936635|nights|0.050413190321450814|\n",
      "| 8589937283|nights| 0.04377987580547044|\n",
      "| 8589938265|nights|0.055454509353595895|\n",
      "| 8589938790|nights| 0.06161612150399544|\n",
      "| 8589939380|nights|  0.0594155457359956|\n",
      "| 8589939437|nights|0.055454509353595895|\n",
      "|17179872137|nights| 0.04893044942964344|\n",
      "|17179872944|nights| 0.04496311569210478|\n",
      "|        182|nights| 0.08755975161094089|\n",
      "|        487|nights|0.009786089885928688|\n",
      "|       1115|nights| 0.06654541122431508|\n",
      "|       2299|nights| 0.15123957096435245|\n",
      "|       2777|nights|0.030247914192870488|\n",
      "+-----------+------+--------------------+\n",
      "only showing top 20 rows\n",
      "\n"
     ]
    }
   ],
   "source": [
    "tf_idf.show"
   ]
  },
  {
   "cell_type": "markdown",
   "metadata": {},
   "source": [
    "# Построим pivot таблицу"
   ]
  },
  {
   "cell_type": "markdown",
   "metadata": {},
   "source": [
    "Честно говоря, я раньше никогда не работал с pivot таблицами и не до конца понимаю, что именно надо сделать. Надеюсь это то, что нужно."
   ]
  },
  {
   "cell_type": "code",
   "execution_count": 18,
   "metadata": {},
   "outputs": [
    {
     "data": {
      "text/plain": [
       "pivot_tf_idf = [review_id: decimal(38,0), : double ... 99 more fields]\n"
      ]
     },
     "metadata": {},
     "output_type": "display_data",
     "source": "user"
    },
    {
     "data": {
      "text/plain": [
       "[review_id: decimal(38,0), : double ... 99 more fields]"
      ]
     },
     "execution_count": 18,
     "metadata": {},
     "output_type": "execute_result"
    }
   ],
   "source": [
    "val pivot_tf_idf = tf_idf\n",
    "    .groupBy(\"review_id\")\n",
    "    .pivot(\"word\")\n",
    "    .agg(first(col(\"tf_idf\")))"
   ]
  },
  {
   "cell_type": "markdown",
   "metadata": {},
   "source": [
    "Она очень долго строится и ядро часто умирает в процессе, так что без вывода."
   ]
  },
  {
   "cell_type": "code",
   "execution_count": null,
   "metadata": {},
   "outputs": [],
   "source": [
    "pivot_tf_idf.show"
   ]
  },
  {
   "cell_type": "code",
   "execution_count": null,
   "metadata": {},
   "outputs": [],
   "source": []
  },
  {
   "cell_type": "code",
   "execution_count": null,
   "metadata": {},
   "outputs": [],
   "source": []
  },
  {
   "cell_type": "code",
   "execution_count": null,
   "metadata": {},
   "outputs": [],
   "source": []
  },
  {
   "cell_type": "code",
   "execution_count": null,
   "metadata": {},
   "outputs": [],
   "source": []
  }
 ],
 "metadata": {
  "kernelspec": {
   "display_name": "Apache Toree - Scala",
   "language": "scala",
   "name": "apache_toree_scala"
  },
  "language_info": {
   "codemirror_mode": "text/x-scala",
   "file_extension": ".scala",
   "mimetype": "text/x-scala",
   "name": "scala",
   "pygments_lexer": "scala",
   "version": "2.11.12"
  }
 },
 "nbformat": 4,
 "nbformat_minor": 4
}
